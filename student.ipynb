{
 "cells": [
  {
   "cell_type": "markdown",
   "metadata": {},
   "source": [
    "## Final Project Submission\n",
    "\n",
    "Please fill out:\n",
    "* Student name: Tabitha Berum\n",
    "* Student pace: full time\n",
    "* Scheduled project review date/time: 22, March 2024\n",
    "* Instructor name: Diana Mongina\n",
    "* Blog post URL: N/A\n"
   ]
  },
  {
   "cell_type": "markdown",
   "metadata": {},
   "source": [
    "# Overview\n",
    "The project's goal is to create an analysis using information on movies, including production budgets, sales and the percentage of viewers that like each film, gathered from many websites. This analysis's outcome will make it easier to select the greatest film to produce financially for the future Microsoft Studios."
   ]
  },
  {
   "cell_type": "markdown",
   "metadata": {},
   "source": [
    "# Business Understanding\n",
    "Microsoft Studios wants to produce original video content, but they have no idea how to go about doing so. The goal of this analysis is to explore what types of films are doing the best and will most likely generate revenue post production.\n",
    "This will be done in the following steps:\n",
    "    1. Defining key factors to evaluate a film's profitability using production budget, ratings or gross revenue.\n",
    "    2. Examining profitability of different movie attributes like release date, genre, director, length of the movie and  popularity.\n",
    "    3. Coming up with a step by step guide of choosing the best movie financially using the 5 W's to gether with the attributes mentioned above."
   ]
  },
  {
   "cell_type": "markdown",
   "metadata": {},
   "source": [
    "# Data Understanding\n"
   ]
  },
  {
   "cell_type": "markdown",
   "metadata": {},
   "source": [
    "##      Data Preparation"
   ]
  },
  {
   "cell_type": "code",
   "execution_count": 18,
   "metadata": {},
   "outputs": [],
   "source": [
    "# Import standard libraries\n",
    "import pandas as pd\n",
    "import numpy as np\n",
    "import seaborn as sns\n",
    "import matplotlib.pyplot as plt\n",
    "import os\n",
    "\n",
    "%matplotlib inline"
   ]
  },
  {
   "cell_type": "code",
   "execution_count": 19,
   "metadata": {},
   "outputs": [],
   "source": [
    "# Import library that enables us to read zip files\n",
    "import zipfile \n",
    "\n",
    "#Extract IMDB SQL .db file\n",
    "# with zipfile.ZipFile('./zippedData/im.db.zip') as zipObj:\n",
    "\n",
    "#    zipObj.extractall('./zippedData/')"
   ]
  },
  {
   "cell_type": "code",
   "execution_count": 23,
   "metadata": {},
   "outputs": [],
   "source": [
    "#Read tables using sqlite3\n",
    "import sqlite3\n",
    "conn = sqlite3.connect('ZippedData/im.db')"
   ]
  },
  {
   "cell_type": "code",
   "execution_count": 21,
   "metadata": {},
   "outputs": [],
   "source": [
    "# Loading data from all datasets\n",
    "movie_data = pd.read_csv('./zippeddata/rt.movie_info.tsv.gz', sep=\"\\t\")\n",
    "reviews_data = pd.read_csv('./zippedData/rt.reviews.tsv.gz', sep=\"\\t\", encoding= 'unicode_escape')\n",
    "gross_data = pd.read_csv('./zippedData/bom.movie_gross.csv.gz')\n",
    "tmdb_data = pd.read_csv('./zippedData/tmdb.movies.csv.gz')\n",
    "budgets_data = pd.read_csv('./zippedData/tn.movie_budgets.csv.gz')\n",
    "\n"
   ]
  },
  {
   "cell_type": "markdown",
   "metadata": {},
   "source": [
    "After loading the data , we are going to explore each dataset to know if there's any anomalies. We begin with the Rotten Tomatoes dataset"
   ]
  },
  {
   "cell_type": "code",
   "execution_count": 22,
   "metadata": {},
   "outputs": [],
   "source": [
    "#"
   ]
  }
 ],
 "metadata": {
  "kernelspec": {
   "display_name": "Python 3",
   "language": "python",
   "name": "python3"
  },
  "language_info": {
   "codemirror_mode": {
    "name": "ipython",
    "version": 3
   },
   "file_extension": ".py",
   "mimetype": "text/x-python",
   "name": "python",
   "nbconvert_exporter": "python",
   "pygments_lexer": "ipython3",
   "version": "3.8.5"
  }
 },
 "nbformat": 4,
 "nbformat_minor": 2
}
